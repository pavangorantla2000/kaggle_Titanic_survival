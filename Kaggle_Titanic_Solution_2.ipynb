{
 "cells": [
  {
   "cell_type": "code",
   "execution_count": 1,
   "id": "2e6be553",
   "metadata": {},
   "outputs": [],
   "source": [
    "import tensorflow as tf\n",
    "import pandas as pd\n",
    "import numpy as np\n",
    "import matplotlib.pyplot as plt\n",
    "%matplotlib inline\n",
    "import seaborn as sn"
   ]
  },
  {
   "cell_type": "code",
   "execution_count": 2,
   "id": "f5ec7393",
   "metadata": {},
   "outputs": [
    {
     "data": {
      "text/plain": [
       "Index(['PassengerId', 'Survived', 'Pclass', 'Name', 'Sex', 'Age', 'SibSp',\n",
       "       'Parch', 'Ticket', 'Fare', 'Cabin', 'Embarked', 'train_test'],\n",
       "      dtype='object')"
      ]
     },
     "execution_count": 2,
     "metadata": {},
     "output_type": "execute_result"
    }
   ],
   "source": [
    "train=pd.read_csv(\"train.csv\")\n",
    "test=pd.read_csv(\"test.csv\")\n",
    "train[\"train_test\"]=1\n",
    "test[\"train_test\"]=0\n",
    "test[\"Survived\"]=np.NaN\n",
    "df=pd.concat([train,test])\n",
    "data=pd.concat([train,test])\n",
    "\n",
    "data.columns"
   ]
  },
  {
   "cell_type": "code",
   "execution_count": 3,
   "id": "387b7e95",
   "metadata": {},
   "outputs": [
    {
     "data": {
      "text/plain": [
       "PassengerId      int64\n",
       "Survived       float64\n",
       "Pclass           int64\n",
       "Name            object\n",
       "Sex             object\n",
       "Age            float64\n",
       "SibSp            int64\n",
       "Parch            int64\n",
       "Ticket          object\n",
       "Fare           float64\n",
       "Cabin           object\n",
       "Embarked        object\n",
       "train_test       int64\n",
       "dtype: object"
      ]
     },
     "execution_count": 3,
     "metadata": {},
     "output_type": "execute_result"
    }
   ],
   "source": [
    "data.dtypes\n"
   ]
  },
  {
   "cell_type": "code",
   "execution_count": 4,
   "id": "d04ef935",
   "metadata": {},
   "outputs": [
    {
     "name": "stdout",
     "output_type": "stream",
     "text": [
      "n    687\n",
      "C     59\n",
      "B     47\n",
      "D     33\n",
      "E     32\n",
      "A     15\n",
      "F     13\n",
      "G      4\n",
      "T      1\n",
      "Name: cabin_adv, dtype: int64\n"
     ]
    }
   ],
   "source": [
    "#Creating categories based on Cabin letters\n",
    "train[\"cabin_adv\"]=train.Cabin.apply(lambda x:str(x)[0])\n",
    "print(train.cabin_adv.value_counts())"
   ]
  },
  {
   "cell_type": "code",
   "execution_count": 5,
   "id": "658c09ab",
   "metadata": {},
   "outputs": [
    {
     "data": {
      "text/plain": [
       "Mr              517\n",
       "Miss            182\n",
       "Mrs             125\n",
       "Master           40\n",
       "Dr                7\n",
       "Rev               6\n",
       "Col               2\n",
       "Major             2\n",
       "Mlle              2\n",
       "the Countess      1\n",
       "Jonkheer          1\n",
       "Lady              1\n",
       "Ms                1\n",
       "Mme               1\n",
       "Don               1\n",
       "Capt              1\n",
       "Sir               1\n",
       "Name: name_title, dtype: int64"
      ]
     },
     "execution_count": 5,
     "metadata": {},
     "output_type": "execute_result"
    }
   ],
   "source": [
    "#feature engineering based on person's title\n",
    "\n",
    "train['name_title']=train.Name.apply(lambda x: x.split(',')[1].split(\".\")[0].strip())\n",
    "train['name_title'].value_counts()"
   ]
  },
  {
   "cell_type": "code",
   "execution_count": 6,
   "id": "040382da",
   "metadata": {
    "scrolled": true
   },
   "outputs": [
    {
     "data": {
      "text/plain": [
       "<matplotlib.legend.Legend at 0x17615bf7df0>"
      ]
     },
     "execution_count": 6,
     "metadata": {},
     "output_type": "execute_result"
    },
    {
     "data": {
      "image/png": "[encoded data removed]",
      "text/plain": [
       "<Figure size 432x288 with 1 Axes>"
      ]
     },
     "metadata": {
      "needs_background": "light"
     },
     "output_type": "display_data"
    }
   ],
   "source": [
    "#Visulaization\n",
    "#Survival rate based on Age\n",
    "G_Sur=train[train.Survived==1].Sex\n",
    "G_no=train[train.Survived==0].Sex\n",
    "plt.xlabel('Gender')\n",
    "plt.ylabel('No. of People')\n",
    "plt.title(\"Survival Based on Gender\")\n",
    "\n",
    "plt.hist([G_Sur,G_no],color=[\"green\",\"red\"])\n",
    "plt.legend([\"Survived=Yes\",\"Survived=NO\"])"
   ]
  },
  {
   "cell_type": "code",
   "execution_count": 7,
   "id": "caa353b7",
   "metadata": {
    "scrolled": true
   },
   "outputs": [
    {
     "data": {
      "text/plain": [
       "<matplotlib.legend.Legend at 0x17616427e50>"
      ]
     },
     "execution_count": 7,
     "metadata": {},
     "output_type": "execute_result"
    },
    {
     "data": {
      "image/png": "[encoded data removed]",
      "text/plain": [
       "<Figure size 432x288 with 1 Axes>"
      ]
     },
     "metadata": {
      "needs_background": "light"
     },
     "output_type": "display_data"
    }
   ],
   "source": [
    "#Survival based on Age\n",
    "a_sur=train[train.Survived==1].Age\n",
    "a_no=train[train.Survived==0].Age\n",
    "plt.xlabel('Age')\n",
    "plt.ylabel('No. of People')\n",
    "plt.title(\"Survival Based on Age\")\n",
    "\n",
    "plt.hist([a_sur,a_no],color=[\"green\",\"red\"])\n",
    "plt.legend([\"Survived=Yes\",\"Survived=NO\"])"
   ]
  },
  {
   "cell_type": "code",
   "execution_count": 8,
   "id": "9d6981e7",
   "metadata": {},
   "outputs": [
    {
     "data": {
      "text/plain": [
       "<matplotlib.legend.Legend at 0x176164df3a0>"
      ]
     },
     "execution_count": 8,
     "metadata": {},
     "output_type": "execute_result"
    },
    {
     "data": {
      "image/png": "[encoded data removed]",
      "text/plain": [
       "<Figure size 432x288 with 1 Axes>"
      ]
     },
     "metadata": {
      "needs_background": "light"
     },
     "output_type": "display_data"
    }
   ],
   "source": [
    "#Survival based on fare rate\n",
    "f_sur=train[train.Survived==1].Fare\n",
    "f_no=train[train.Survived==0].Fare\n",
    "plt.xlabel('Fare')\n",
    "plt.ylabel('No. of People')\n",
    "plt.title(\"Survival Based on Fare\")\n",
    "\n",
    "plt.hist([f_sur,f_no],color=[\"green\",\"red\"])\n",
    "plt.legend([\"Survived=Yes\",\"Survived=NO\"])"
   ]
  },
  {
   "cell_type": "code",
   "execution_count": 9,
   "id": "dc0e1419",
   "metadata": {},
   "outputs": [
    {
     "data": {
      "text/plain": [
       "<matplotlib.legend.Legend at 0x17616575490>"
      ]
     },
     "execution_count": 9,
     "metadata": {},
     "output_type": "execute_result"
    },
    {
     "data": {
      "image/png": "[encoded data removed]",
      "text/plain": [
       "<Figure size 432x288 with 1 Axes>"
      ]
     },
     "metadata": {
      "needs_background": "light"
     },
     "output_type": "display_data"
    }
   ],
   "source": [
    "#Survival based on cabin block\n",
    "c_sur=train[train.Survived==1].cabin_adv\n",
    "c_no=train[train.Survived==0].cabin_adv\n",
    "plt.xlabel('cabin block')\n",
    "plt.ylabel('No. of People')\n",
    "plt.title(\"Survival per cabin block\")\n",
    "plt.hist([c_sur,c_no],color=[\"green\",\"red\"])\n",
    "plt.legend([\"Survived=Yes\",\"Survived=NO\"])"
   ]
  },
  {
   "cell_type": "code",
   "execution_count": 10,
   "id": "0d984ef2",
   "metadata": {},
   "outputs": [
    {
     "data": {
      "text/plain": [
       "<matplotlib.legend.Legend at 0x176165f2280>"
      ]
     },
     "execution_count": 10,
     "metadata": {},
     "output_type": "execute_result"
    },
    {
     "data": {
      "image/png": "[encoded data removed]",
      "text/plain": [
       "<Figure size 432x288 with 1 Axes>"
      ]
     },
     "metadata": {
      "needs_background": "light"
     },
     "output_type": "display_data"
    }
   ],
   "source": [
    "#Survival based on person's title\n",
    "pt_sur=train[train.Survived==1].name_title\n",
    "pt_no=train[train.Survived==0].name_title\n",
    "plt.xlabel(\"Person's title\")\n",
    "plt.ylabel('No. of People')\n",
    "plt.title(\"Survival based on person's title\")\n",
    "plt.hist([pt_sur,pt_no],color=[\"green\",\"red\"])\n",
    "plt.legend([\"Survived=Yes\",\"Survived=NO\"])\n"
   ]
  },
  {
   "cell_type": "code",
   "execution_count": 11,
   "id": "8e5194ae",
   "metadata": {},
   "outputs": [
    {
     "data": {
      "text/plain": [
       "Index(['PassengerId', 'Survived', 'Pclass', 'Name', 'Sex', 'Age', 'SibSp',\n",
       "       'Parch', 'Ticket', 'Fare', 'Cabin', 'Embarked', 'train_test',\n",
       "       'cabin_adv', 'name_title'],\n",
       "      dtype='object')"
      ]
     },
     "execution_count": 11,
     "metadata": {},
     "output_type": "execute_result"
    }
   ],
   "source": [
    "train.columns\n"
   ]
  },
  {
   "cell_type": "code",
   "execution_count": 12,
   "id": "99e82c41",
   "metadata": {},
   "outputs": [],
   "source": [
    "#Data Processing\n",
    "data[\"cabin_adv\"]=data.Cabin.apply(lambda x:str(x)[0])\n",
    "data['name_title']=data.Name.apply(lambda x: x.split(',')[1].split(\".\")[0].strip())\n",
    "\n"
   ]
  },
  {
   "cell_type": "code",
   "execution_count": 13,
   "id": "7aa69797",
   "metadata": {},
   "outputs": [
    {
     "data": {
      "text/plain": [
       "<bound method Series.unique of 0      22.000000\n",
       "1      38.000000\n",
       "2      26.000000\n",
       "3      35.000000\n",
       "4      35.000000\n",
       "         ...    \n",
       "413    29.699118\n",
       "414    39.000000\n",
       "415    38.500000\n",
       "416    29.699118\n",
       "417    29.699118\n",
       "Name: Age, Length: 1307, dtype: float64>"
      ]
     },
     "execution_count": 13,
     "metadata": {},
     "output_type": "execute_result"
    }
   ],
   "source": [
    "#imputing null values for continuous data with mean value \n",
    "data.Age=data.Age.fillna(train.Age.mean())\n",
    "data.Fare=data.Fare.fillna(train.Fare.mean())\n",
    "#Dropping null embarked rows(only 2 rows)\n",
    "data.dropna(subset=['Embarked'],inplace=True)\n",
    "data.Age.unique"
   ]
  },
  {
   "cell_type": "code",
   "execution_count": 14,
   "id": "153b043e",
   "metadata": {},
   "outputs": [],
   "source": [
    "#Droping inappropriate columns\n",
    "data.drop(['PassengerId',\"Name\",\"Cabin\",\"Ticket\"],axis='columns',inplace=True)\n"
   ]
  },
  {
   "cell_type": "code",
   "execution_count": 15,
   "id": "c8072fa2",
   "metadata": {},
   "outputs": [
    {
     "data": {
      "text/plain": [
       "Index(['Survived', 'Pclass', 'Sex', 'Age', 'SibSp', 'Parch', 'Fare',\n",
       "       'Embarked', 'train_test', 'cabin_adv', 'name_title'],\n",
       "      dtype='object')"
      ]
     },
     "execution_count": 15,
     "metadata": {},
     "output_type": "execute_result"
    }
   ],
   "source": [
    "data.columns"
   ]
  },
  {
   "cell_type": "code",
   "execution_count": 16,
   "id": "f7d43711",
   "metadata": {},
   "outputs": [
    {
     "name": "stdout",
     "output_type": "stream",
     "text": [
      "Survived:[ 0.  1. nan]\n",
      "Pclass:[3 1 2]\n",
      "Sex:['male' 'female']\n",
      "Age:[22.         38.         26.         35.         29.69911765 54.\n",
      "  2.         27.         14.          4.         58.         20.\n",
      " 39.         55.         31.         34.         15.         28.\n",
      "  8.         19.         40.         66.         42.         21.\n",
      " 18.          3.          7.         49.         29.         65.\n",
      " 28.5         5.         11.         45.         17.         32.\n",
      " 16.         25.          0.83       30.         33.         23.\n",
      " 24.         46.         59.         71.         37.         47.\n",
      " 14.5        70.5        32.5        12.          9.         36.5\n",
      " 51.         55.5        40.5        44.          1.         61.\n",
      " 56.         50.         36.         45.5        20.5        62.\n",
      " 41.         52.         63.         23.5         0.92       43.\n",
      " 60.         10.         64.         13.         48.          0.75\n",
      " 53.         57.         80.         70.         24.5         6.\n",
      "  0.67       30.5         0.42       34.5        74.         22.5\n",
      " 18.5        67.         76.         26.5        60.5        11.5\n",
      "  0.33        0.17       38.5       ]\n",
      "SibSp:[1 0 3 4 2 5 8]\n",
      "Parch:[0 1 2 5 3 4 6 9]\n",
      "Fare:[  7.25        71.2833       7.925       53.1          8.05\n",
      "   8.4583      51.8625      21.075       11.1333      30.0708\n",
      "  16.7         26.55        31.275        7.8542      16.\n",
      "  29.125       13.          18.           7.225       26.\n",
      "   8.0292      35.5         31.3875     263.           7.8792\n",
      "   7.8958      27.7208     146.5208       7.75        10.5\n",
      "  82.1708      52.           7.2292      11.2417       9.475\n",
      "  21.          41.5792      15.5         21.6792      17.8\n",
      "  39.6875       7.8         76.7292      61.9792      27.75\n",
      "  46.9         83.475       27.9         15.2458       8.1583\n",
      "   8.6625      73.5         14.4542      56.4958       7.65\n",
      "  29.          12.475        9.           9.5          7.7875\n",
      "  47.1         15.85        34.375       61.175       20.575\n",
      "  34.6542      63.3583      23.          77.2875       8.6542\n",
      "   7.775       24.15         9.825       14.4583     247.5208\n",
      "   7.1417      22.3583       6.975        7.05        14.5\n",
      "  15.0458      26.2833       9.2167      79.2          6.75\n",
      "  11.5         36.75         7.7958      12.525       66.6\n",
      "   7.3125      61.3792       7.7333      69.55        16.1\n",
      "  15.75        20.525       55.          25.925       33.5\n",
      "  30.6958      25.4667      28.7125       0.          15.05\n",
      "  39.          22.025       50.           8.4042       6.4958\n",
      "  10.4625      18.7875      31.         113.275       27.\n",
      "  76.2917      90.           9.35        13.5          7.55\n",
      "  26.25        12.275        7.125       52.5542      20.2125\n",
      "  86.5        512.3292      79.65       153.4625     135.6333\n",
      "  19.5         29.7         77.9583      20.25        78.85\n",
      "  91.0792      12.875        8.85       151.55        30.5\n",
      "  23.25        12.35       110.8833     108.9         24.\n",
      "  56.9292      83.1583     262.375       14.         164.8667\n",
      " 134.5          6.2375      57.9792      28.5        133.65\n",
      "  15.9          9.225       35.          75.25        69.3\n",
      "  55.4417     211.5          4.0125     227.525       15.7417\n",
      "   7.7292      12.         120.          12.65        18.75\n",
      "   6.8583      32.5          7.875       14.4         55.9\n",
      "   8.1125      81.8583      19.2583      19.9667      89.1042\n",
      "  38.5          7.725       13.7917       9.8375       7.0458\n",
      "   7.5208      12.2875       9.5875      49.5042      78.2667\n",
      "  15.1          7.6292      22.525       26.2875      59.4\n",
      "   7.4958      34.0208      93.5        221.7792     106.425\n",
      "  49.5         71.          13.8625       7.8292      39.6\n",
      "  17.4         51.4792      26.3875      30.          40.125\n",
      "   8.7125      15.          33.          42.4         15.55\n",
      "  65.          32.3208       7.0542       8.4333      25.5875\n",
      "   9.8417       8.1375      10.1708     211.3375      57.\n",
      "  13.4167       7.7417       9.4833       7.7375       8.3625\n",
      "  23.45        25.9292       8.6833       8.5167       7.8875\n",
      "  37.0042       6.45         6.95         8.3          6.4375\n",
      "  39.4         14.1083      13.8583      50.4958       5.\n",
      "   9.8458      10.5167       7.           9.6875      82.2667\n",
      "   3.1708      31.6833      31.5         57.75         7.85\n",
      "  60.          15.0333      15.5792      28.5375      25.7\n",
      "  10.7083      13.9          7.8208       7.7792      31.6792\n",
      "   7.2833      75.2417      32.20420797  12.1833      13.775\n",
      "   8.9625      25.7417      42.5         27.4458     136.7792\n",
      "   9.325       12.7375      45.5          7.575        7.5792\n",
      "   7.7208    ]\n",
      "Embarked:['S' 'C' 'Q']\n",
      "train_test:[1 0]\n",
      "cabin_adv:['n' 'C' 'E' 'G' 'D' 'A' 'B' 'F' 'T']\n",
      "name_title:['Mr' 'Mrs' 'Miss' 'Master' 'Don' 'Rev' 'Dr' 'Mme' 'Ms' 'Major' 'Lady'\n",
      " 'Sir' 'Mlle' 'Col' 'Capt' 'the Countess' 'Jonkheer' 'Dona']\n"
     ]
    }
   ],
   "source": [
    "#to check unique values in each column\n",
    "for column in data:\n",
    "    print(f\"{column}:{data[column].unique()}\")"
   ]
  },
  {
   "cell_type": "code",
   "execution_count": 17,
   "id": "6cfac9e5",
   "metadata": {},
   "outputs": [],
   "source": [
    "#Replacing Male and Female to 0 and 1\n",
    "data[\"Sex\"].replace({\"female\":1,\"male\":0},inplace=True)\n",
    "#Changing Pclass from numeric to Categorical\n",
    "data['Pclass'].replace({1:\"Class-1\",2:\"Class-2\",3:\"Class-3\"},inplace=True)"
   ]
  },
  {
   "cell_type": "code",
   "execution_count": 18,
   "id": "713c66d0",
   "metadata": {
    "scrolled": true
   },
   "outputs": [
    {
     "data": {
      "text/html": [
       "<div>\n",
       "<style scoped>\n",
       "    .dataframe tbody tr th:only-of-type {\n",
       "        vertical-align: middle;\n",
       "    }\n",
       "\n",
       "    .dataframe tbody tr th {\n",
       "        vertical-align: top;\n",
       "    }\n",
       "\n",
       "    .dataframe thead th {\n",
       "        text-align: right;\n",
       "    }\n",
       "</style>\n",
       "<table border=\"1\" class=\"dataframe\">\n",
       "  <thead>\n",
       "    <tr style=\"text-align: right;\">\n",
       "      <th></th>\n",
       "      <th>Survived</th>\n",
       "      <th>Pclass</th>\n",
       "      <th>Sex</th>\n",
       "      <th>Age</th>\n",
       "      <th>SibSp</th>\n",
       "      <th>Parch</th>\n",
       "      <th>Fare</th>\n",
       "      <th>Embarked</th>\n",
       "      <th>train_test</th>\n",
       "      <th>cabin_adv</th>\n",
       "      <th>name_title</th>\n",
       "    </tr>\n",
       "  </thead>\n",
       "  <tbody>\n",
       "    <tr>\n",
       "      <th>172</th>\n",
       "      <td>NaN</td>\n",
       "      <td>Class-3</td>\n",
       "      <td>0</td>\n",
       "      <td>23.0</td>\n",
       "      <td>1</td>\n",
       "      <td>0</td>\n",
       "      <td>13.9000</td>\n",
       "      <td>S</td>\n",
       "      <td>0</td>\n",
       "      <td>n</td>\n",
       "      <td>Mr</td>\n",
       "    </tr>\n",
       "    <tr>\n",
       "      <th>389</th>\n",
       "      <td>1.0</td>\n",
       "      <td>Class-2</td>\n",
       "      <td>1</td>\n",
       "      <td>17.0</td>\n",
       "      <td>0</td>\n",
       "      <td>0</td>\n",
       "      <td>12.0000</td>\n",
       "      <td>C</td>\n",
       "      <td>1</td>\n",
       "      <td>n</td>\n",
       "      <td>Miss</td>\n",
       "    </tr>\n",
       "    <tr>\n",
       "      <th>281</th>\n",
       "      <td>0.0</td>\n",
       "      <td>Class-3</td>\n",
       "      <td>0</td>\n",
       "      <td>28.0</td>\n",
       "      <td>0</td>\n",
       "      <td>0</td>\n",
       "      <td>7.8542</td>\n",
       "      <td>S</td>\n",
       "      <td>1</td>\n",
       "      <td>n</td>\n",
       "      <td>Mr</td>\n",
       "    </tr>\n",
       "    <tr>\n",
       "      <th>257</th>\n",
       "      <td>NaN</td>\n",
       "      <td>Class-3</td>\n",
       "      <td>0</td>\n",
       "      <td>28.0</td>\n",
       "      <td>0</td>\n",
       "      <td>0</td>\n",
       "      <td>8.0500</td>\n",
       "      <td>S</td>\n",
       "      <td>0</td>\n",
       "      <td>n</td>\n",
       "      <td>Mr</td>\n",
       "    </tr>\n",
       "    <tr>\n",
       "      <th>275</th>\n",
       "      <td>NaN</td>\n",
       "      <td>Class-2</td>\n",
       "      <td>1</td>\n",
       "      <td>20.0</td>\n",
       "      <td>1</td>\n",
       "      <td>0</td>\n",
       "      <td>26.0000</td>\n",
       "      <td>S</td>\n",
       "      <td>0</td>\n",
       "      <td>n</td>\n",
       "      <td>Miss</td>\n",
       "    </tr>\n",
       "  </tbody>\n",
       "</table>\n",
       "</div>"
      ],
      "text/plain": [
       "     Survived   Pclass  Sex   Age  SibSp  Parch     Fare Embarked  train_test  \\\n",
       "172       NaN  Class-3    0  23.0      1      0  13.9000        S           0   \n",
       "389       1.0  Class-2    1  17.0      0      0  12.0000        C           1   \n",
       "281       0.0  Class-3    0  28.0      0      0   7.8542        S           1   \n",
       "257       NaN  Class-3    0  28.0      0      0   8.0500        S           0   \n",
       "275       NaN  Class-2    1  20.0      1      0  26.0000        S           0   \n",
       "\n",
       "    cabin_adv name_title  \n",
       "172         n         Mr  \n",
       "389         n       Miss  \n",
       "281         n         Mr  \n",
       "257         n         Mr  \n",
       "275         n       Miss  "
      ]
     },
     "execution_count": 18,
     "metadata": {},
     "output_type": "execute_result"
    }
   ],
   "source": [
    "data.sample(5)"
   ]
  },
  {
   "cell_type": "code",
   "execution_count": 19,
   "id": "9423df8a",
   "metadata": {},
   "outputs": [],
   "source": [
    "#OneHotEncoding for categorical data\n",
    "scaled_data=pd.get_dummies(data=data,columns=[\"Embarked\",\"cabin_adv\",\"name_title\",\"Pclass\"])\n",
    "\n"
   ]
  },
  {
   "cell_type": "code",
   "execution_count": 20,
   "id": "38cd60e3",
   "metadata": {},
   "outputs": [
    {
     "name": "stdout",
     "output_type": "stream",
     "text": [
      "Survived:[ 0.  1. nan]\n",
      "Sex:[0 1]\n",
      "Age:[22.         38.         26.         35.         29.69911765 54.\n",
      "  2.         27.         14.          4.         58.         20.\n",
      " 39.         55.         31.         34.         15.         28.\n",
      "  8.         19.         40.         66.         42.         21.\n",
      " 18.          3.          7.         49.         29.         65.\n",
      " 28.5         5.         11.         45.         17.         32.\n",
      " 16.         25.          0.83       30.         33.         23.\n",
      " 24.         46.         59.         71.         37.         47.\n",
      " 14.5        70.5        32.5        12.          9.         36.5\n",
      " 51.         55.5        40.5        44.          1.         61.\n",
      " 56.         50.         36.         45.5        20.5        62.\n",
      " 41.         52.         63.         23.5         0.92       43.\n",
      " 60.         10.         64.         13.         48.          0.75\n",
      " 53.         57.         80.         70.         24.5         6.\n",
      "  0.67       30.5         0.42       34.5        74.         22.5\n",
      " 18.5        67.         76.         26.5        60.5        11.5\n",
      "  0.33        0.17       38.5       ]\n",
      "SibSp:[1 0 3 4 2 5 8]\n",
      "Parch:[0 1 2 5 3 4 6 9]\n",
      "Fare:[  7.25        71.2833       7.925       53.1          8.05\n",
      "   8.4583      51.8625      21.075       11.1333      30.0708\n",
      "  16.7         26.55        31.275        7.8542      16.\n",
      "  29.125       13.          18.           7.225       26.\n",
      "   8.0292      35.5         31.3875     263.           7.8792\n",
      "   7.8958      27.7208     146.5208       7.75        10.5\n",
      "  82.1708      52.           7.2292      11.2417       9.475\n",
      "  21.          41.5792      15.5         21.6792      17.8\n",
      "  39.6875       7.8         76.7292      61.9792      27.75\n",
      "  46.9         83.475       27.9         15.2458       8.1583\n",
      "   8.6625      73.5         14.4542      56.4958       7.65\n",
      "  29.          12.475        9.           9.5          7.7875\n",
      "  47.1         15.85        34.375       61.175       20.575\n",
      "  34.6542      63.3583      23.          77.2875       8.6542\n",
      "   7.775       24.15         9.825       14.4583     247.5208\n",
      "   7.1417      22.3583       6.975        7.05        14.5\n",
      "  15.0458      26.2833       9.2167      79.2          6.75\n",
      "  11.5         36.75         7.7958      12.525       66.6\n",
      "   7.3125      61.3792       7.7333      69.55        16.1\n",
      "  15.75        20.525       55.          25.925       33.5\n",
      "  30.6958      25.4667      28.7125       0.          15.05\n",
      "  39.          22.025       50.           8.4042       6.4958\n",
      "  10.4625      18.7875      31.         113.275       27.\n",
      "  76.2917      90.           9.35        13.5          7.55\n",
      "  26.25        12.275        7.125       52.5542      20.2125\n",
      "  86.5        512.3292      79.65       153.4625     135.6333\n",
      "  19.5         29.7         77.9583      20.25        78.85\n",
      "  91.0792      12.875        8.85       151.55        30.5\n",
      "  23.25        12.35       110.8833     108.9         24.\n",
      "  56.9292      83.1583     262.375       14.         164.8667\n",
      " 134.5          6.2375      57.9792      28.5        133.65\n",
      "  15.9          9.225       35.          75.25        69.3\n",
      "  55.4417     211.5          4.0125     227.525       15.7417\n",
      "   7.7292      12.         120.          12.65        18.75\n",
      "   6.8583      32.5          7.875       14.4         55.9\n",
      "   8.1125      81.8583      19.2583      19.9667      89.1042\n",
      "  38.5          7.725       13.7917       9.8375       7.0458\n",
      "   7.5208      12.2875       9.5875      49.5042      78.2667\n",
      "  15.1          7.6292      22.525       26.2875      59.4\n",
      "   7.4958      34.0208      93.5        221.7792     106.425\n",
      "  49.5         71.          13.8625       7.8292      39.6\n",
      "  17.4         51.4792      26.3875      30.          40.125\n",
      "   8.7125      15.          33.          42.4         15.55\n",
      "  65.          32.3208       7.0542       8.4333      25.5875\n",
      "   9.8417       8.1375      10.1708     211.3375      57.\n",
      "  13.4167       7.7417       9.4833       7.7375       8.3625\n",
      "  23.45        25.9292       8.6833       8.5167       7.8875\n",
      "  37.0042       6.45         6.95         8.3          6.4375\n",
      "  39.4         14.1083      13.8583      50.4958       5.\n",
      "   9.8458      10.5167       7.           9.6875      82.2667\n",
      "   3.1708      31.6833      31.5         57.75         7.85\n",
      "  60.          15.0333      15.5792      28.5375      25.7\n",
      "  10.7083      13.9          7.8208       7.7792      31.6792\n",
      "   7.2833      75.2417      32.20420797  12.1833      13.775\n",
      "   8.9625      25.7417      42.5         27.4458     136.7792\n",
      "   9.325       12.7375      45.5          7.575        7.5792\n",
      "   7.7208    ]\n",
      "train_test:[1 0]\n",
      "Embarked_C:[0 1]\n",
      "Embarked_Q:[0 1]\n",
      "Embarked_S:[1 0]\n",
      "cabin_adv_A:[0 1]\n",
      "cabin_adv_B:[0 1]\n",
      "cabin_adv_C:[0 1]\n",
      "cabin_adv_D:[0 1]\n",
      "cabin_adv_E:[0 1]\n",
      "cabin_adv_F:[0 1]\n",
      "cabin_adv_G:[0 1]\n",
      "cabin_adv_T:[0 1]\n",
      "cabin_adv_n:[1 0]\n",
      "name_title_Capt:[0 1]\n",
      "name_title_Col:[0 1]\n",
      "name_title_Don:[0 1]\n",
      "name_title_Dona:[0 1]\n",
      "name_title_Dr:[0 1]\n",
      "name_title_Jonkheer:[0 1]\n",
      "name_title_Lady:[0 1]\n",
      "name_title_Major:[0 1]\n",
      "name_title_Master:[0 1]\n",
      "name_title_Miss:[0 1]\n",
      "name_title_Mlle:[0 1]\n",
      "name_title_Mme:[0 1]\n",
      "name_title_Mr:[1 0]\n",
      "name_title_Mrs:[0 1]\n",
      "name_title_Ms:[0 1]\n",
      "name_title_Rev:[0 1]\n",
      "name_title_Sir:[0 1]\n",
      "name_title_the Countess:[0 1]\n",
      "Pclass_Class-1:[0 1]\n",
      "Pclass_Class-2:[0 1]\n",
      "Pclass_Class-3:[1 0]\n"
     ]
    }
   ],
   "source": [
    "for column in scaled_data:\n",
    "    print(f\"{column}:{scaled_data[column].unique()}\")"
   ]
  },
  {
   "cell_type": "code",
   "execution_count": 21,
   "id": "f45940a0",
   "metadata": {},
   "outputs": [],
   "source": [
    "#Scaling :\n",
    "cols_to_scale=[\"Age\",\"SibSp\",\"Parch\",\"Fare\"]\n",
    "from sklearn.preprocessing import MinMaxScaler\n",
    "scaler=MinMaxScaler()\n",
    "scaled_data[cols_to_scale]=scaler.fit_transform(scaled_data[cols_to_scale])"
   ]
  },
  {
   "cell_type": "code",
   "execution_count": 22,
   "id": "097f4599",
   "metadata": {},
   "outputs": [
    {
     "name": "stdout",
     "output_type": "stream",
     "text": [
      "Survived:[ 0.  1. nan]\n",
      "Sex:[0 1]\n",
      "Age:[0.27345609 0.473882   0.32356257 0.43630214 0.36990001 0.6743079\n",
      " 0.02292371 0.33608919 0.17324314 0.04797695 0.72441438 0.24840286\n",
      " 0.48640862 0.68683452 0.38619567 0.42377552 0.18576976 0.34861581\n",
      " 0.09808343 0.23587624 0.49893524 0.82462733 0.52398848 0.26092948\n",
      " 0.22334962 0.03545033 0.08555681 0.61167481 0.36114243 0.81210071\n",
      " 0.35487912 0.06050357 0.13566328 0.56156833 0.210823   0.39872228\n",
      " 0.19829638 0.31103595 0.00826757 0.37366905 0.4112489  0.28598271\n",
      " 0.29850933 0.57409495 0.736941   0.88726043 0.46135538 0.58662157\n",
      " 0.17950645 0.88099712 0.40498559 0.1481899  0.11061005 0.45509207\n",
      " 0.63672805 0.69309783 0.50519855 0.54904171 0.01039709 0.76199424\n",
      " 0.69936114 0.62420143 0.44882876 0.56783164 0.25466617 0.77452086\n",
      " 0.51146186 0.64925467 0.78704748 0.29224602 0.00939496 0.53651509\n",
      " 0.74946762 0.12313667 0.79957409 0.16071652 0.59914819 0.00726544\n",
      " 0.66178129 0.71188776 1.         0.87473381 0.30477264 0.07303019\n",
      " 0.00626331 0.37993236 0.00313165 0.43003883 0.92484029 0.2797194\n",
      " 0.22961293 0.83715395 0.94989352 0.32982588 0.75573093 0.14192659\n",
      " 0.00200426 0.         0.48014531]\n",
      "SibSp:[0.125 0.    0.375 0.5   0.25  0.625 1.   ]\n",
      "Parch:[0.         0.11111111 0.22222222 0.55555556 0.33333333 0.44444444\n",
      " 0.66666667 1.        ]\n",
      "Fare:[0.01415106 0.13913574 0.01546857 0.1036443  0.01571255 0.0165095\n",
      " 0.10122886 0.04113566 0.02173075 0.05869429 0.03259623 0.05182215\n",
      " 0.06104473 0.01533038 0.03122992 0.05684821 0.02537431 0.03513366\n",
      " 0.01410226 0.05074862 0.01567195 0.06929139 0.06126432 0.51334181\n",
      " 0.01537917 0.01541158 0.0541074  0.28598956 0.01512699 0.02049464\n",
      " 0.16038672 0.10149724 0.01411046 0.02194234 0.01849397 0.04098927\n",
      " 0.08115719 0.03025399 0.04231498 0.03474329 0.07746484 0.01522459\n",
      " 0.14976542 0.12097534 0.05416439 0.0915427  0.16293235 0.05445717\n",
      " 0.02975782 0.01592394 0.01690807 0.14346245 0.02821272 0.11027246\n",
      " 0.01493181 0.05660423 0.02434958 0.01756683 0.01854277 0.01520019\n",
      " 0.09193308 0.03093714 0.06709553 0.11940565 0.04015973 0.06764049\n",
      " 0.12366717 0.04489301 0.15085515 0.01689187 0.01517579 0.04713766\n",
      " 0.01917712 0.02822072 0.48312843 0.01393967 0.0436405  0.01361429\n",
      " 0.01376068 0.02830212 0.02936745 0.05130158 0.0179898  0.1545881\n",
      " 0.01317512 0.02244651 0.07173122 0.01521639 0.02444717 0.12999454\n",
      " 0.01427305 0.11980422 0.0150944  0.13575256 0.03142511 0.03074195\n",
      " 0.04006213 0.10735285 0.05060223 0.06538765 0.05991421 0.04970769\n",
      " 0.05604307 0.         0.02937564 0.07612293 0.04298994 0.0975935\n",
      " 0.01640391 0.01267896 0.02042144 0.03667076 0.06050797 0.22109808\n",
      " 0.05270049 0.14891148 0.1756683  0.01824998 0.02635025 0.01473662\n",
      " 0.05123659 0.0239592  0.01390707 0.10257897 0.03945217 0.16883676\n",
      " 1.         0.15546645 0.29953885 0.26473857 0.03806147 0.05797054\n",
      " 0.15216447 0.03952537 0.15390495 0.17777476 0.02513033 0.01727405\n",
      " 0.2958059  0.05953204 0.04538098 0.02410559 0.21642979 0.21255864\n",
      " 0.04684488 0.1111184  0.16231419 0.51212189 0.02732618 0.32179837\n",
      " 0.26252652 0.01217479 0.11316786 0.0556283  0.26086743 0.03103473\n",
      " 0.018006   0.06831545 0.14687822 0.13526459 0.10821499 0.41282051\n",
      " 0.00783188 0.44409922 0.03072575 0.01508639 0.02342244 0.2342244\n",
      " 0.02469116 0.03659756 0.01338651 0.06343578 0.01537098 0.02810693\n",
      " 0.10910953 0.01583455 0.15977676 0.0375897  0.0389724  0.17391982\n",
      " 0.075147   0.0150782  0.02691961 0.01920152 0.01375249 0.01467962\n",
      " 0.0239836  0.01871355 0.09662576 0.15276642 0.02947324 0.01489121\n",
      " 0.04396587 0.05130978 0.11594108 0.01463083 0.06640418 0.18249985\n",
      " 0.43288417 0.20772777 0.09661757 0.13858277 0.0270578  0.01528158\n",
      " 0.07729405 0.03396254 0.10048071 0.05150497 0.0585561  0.07831878\n",
      " 0.01700567 0.02927805 0.06441171 0.08275929 0.03035158 0.12687155\n",
      " 0.063086   0.01376888 0.01646071 0.04994347 0.01920972 0.01588334\n",
      " 0.01985208 0.41250333 0.11125659 0.02618765 0.01511079 0.01851017\n",
      " 0.01510259 0.01632251 0.04577135 0.05061043 0.01694867 0.01662349\n",
      " 0.01539537 0.07222739 0.01258956 0.0135655  0.01620052 0.01256516\n",
      " 0.07690368 0.02753757 0.0270496  0.09856124 0.00975935 0.01921772\n",
      " 0.02052723 0.01366309 0.01890874 0.1605739  0.00618899 0.06184168\n",
      " 0.06148391 0.11272049 0.01532218 0.1171122  0.02934305 0.03040857\n",
      " 0.05570149 0.05016306 0.02090121 0.02713099 0.01526518 0.01518399\n",
      " 0.06183368 0.01421605 0.14686202 0.06285843 0.02378022 0.02688701\n",
      " 0.01749363 0.05024445 0.08295448 0.05357063 0.26697522 0.01820119\n",
      " 0.02486194 0.08881009 0.01478542 0.01479361 0.01507   ]\n",
      "train_test:[1 0]\n",
      "Embarked_C:[0 1]\n",
      "Embarked_Q:[0 1]\n",
      "Embarked_S:[1 0]\n",
      "cabin_adv_A:[0 1]\n",
      "cabin_adv_B:[0 1]\n",
      "cabin_adv_C:[0 1]\n",
      "cabin_adv_D:[0 1]\n",
      "cabin_adv_E:[0 1]\n",
      "cabin_adv_F:[0 1]\n",
      "cabin_adv_G:[0 1]\n",
      "cabin_adv_T:[0 1]\n",
      "cabin_adv_n:[1 0]\n",
      "name_title_Capt:[0 1]\n",
      "name_title_Col:[0 1]\n",
      "name_title_Don:[0 1]\n",
      "name_title_Dona:[0 1]\n",
      "name_title_Dr:[0 1]\n",
      "name_title_Jonkheer:[0 1]\n",
      "name_title_Lady:[0 1]\n",
      "name_title_Major:[0 1]\n",
      "name_title_Master:[0 1]\n",
      "name_title_Miss:[0 1]\n",
      "name_title_Mlle:[0 1]\n",
      "name_title_Mme:[0 1]\n",
      "name_title_Mr:[1 0]\n",
      "name_title_Mrs:[0 1]\n",
      "name_title_Ms:[0 1]\n",
      "name_title_Rev:[0 1]\n",
      "name_title_Sir:[0 1]\n",
      "name_title_the Countess:[0 1]\n",
      "Pclass_Class-1:[0 1]\n",
      "Pclass_Class-2:[0 1]\n",
      "Pclass_Class-3:[1 0]\n"
     ]
    }
   ],
   "source": [
    "for column in scaled_data:\n",
    "    print(f\"{column}:{scaled_data[column].unique()}\")"
   ]
  },
  {
   "cell_type": "code",
   "execution_count": 23,
   "id": "36608bb6",
   "metadata": {},
   "outputs": [
    {
     "data": {
      "text/plain": [
       "(1307, 40)"
      ]
     },
     "execution_count": 23,
     "metadata": {},
     "output_type": "execute_result"
    }
   ],
   "source": [
    "scaled_data.shape"
   ]
  },
  {
   "cell_type": "code",
   "execution_count": 24,
   "id": "37b7debc",
   "metadata": {},
   "outputs": [],
   "source": [
    "#Splitting train and testing and prediction dataset\n",
    "Y_data=scaled_data[scaled_data.train_test==1].Survived\n",
    "X_data=scaled_data[scaled_data.train_test==1].drop(['train_test',\"Survived\"],axis=1)\n",
    "\n",
    "pred=scaled_data[scaled_data.train_test==0].drop(['train_test','Survived'],axis=1)\n",
    "\n"
   ]
  },
  {
   "cell_type": "code",
   "execution_count": 49,
   "id": "ce43aade",
   "metadata": {},
   "outputs": [
    {
     "name": "stdout",
     "output_type": "stream",
     "text": [
      "Epoch 1/100\n",
      "28/28 [==============================] - 1s 5ms/step - loss: 0.6385 - accuracy: 0.7615\n",
      "Epoch 2/100\n",
      "28/28 [==============================] - 0s 5ms/step - loss: 0.5434 - accuracy: 0.7987\n",
      "Epoch 3/100\n",
      "28/28 [==============================] - 0s 5ms/step - loss: 0.4690 - accuracy: 0.8065\n",
      "Epoch 4/100\n",
      "28/28 [==============================] - 0s 5ms/step - loss: 0.4399 - accuracy: 0.8155\n",
      "Epoch 5/100\n",
      "28/28 [==============================] - 0s 5ms/step - loss: 0.4239 - accuracy: 0.8189\n",
      "Epoch 6/100\n",
      "28/28 [==============================] - 0s 5ms/step - loss: 0.4146 - accuracy: 0.8234\n",
      "Epoch 7/100\n",
      "28/28 [==============================] - 0s 5ms/step - loss: 0.4064 - accuracy: 0.8313\n",
      "Epoch 8/100\n",
      "28/28 [==============================] - 0s 5ms/step - loss: 0.4036 - accuracy: 0.8301\n",
      "Epoch 9/100\n",
      "28/28 [==============================] - 0s 5ms/step - loss: 0.3996 - accuracy: 0.8324\n",
      "Epoch 10/100\n",
      "28/28 [==============================] - 0s 5ms/step - loss: 0.3934 - accuracy: 0.8369\n",
      "Epoch 11/100\n",
      "28/28 [==============================] - 0s 5ms/step - loss: 0.3913 - accuracy: 0.8436\n",
      "Epoch 12/100\n",
      "28/28 [==============================] - 0s 5ms/step - loss: 0.3892 - accuracy: 0.8436\n",
      "Epoch 13/100\n",
      "28/28 [==============================] - 0s 5ms/step - loss: 0.3870 - accuracy: 0.8391\n",
      "Epoch 14/100\n",
      "28/28 [==============================] - 0s 5ms/step - loss: 0.3844 - accuracy: 0.8504\n",
      "Epoch 15/100\n",
      "28/28 [==============================] - 0s 5ms/step - loss: 0.3823 - accuracy: 0.8515\n",
      "Epoch 16/100\n",
      "28/28 [==============================] - 0s 5ms/step - loss: 0.3818 - accuracy: 0.8481\n",
      "Epoch 17/100\n",
      "28/28 [==============================] - 0s 5ms/step - loss: 0.3796 - accuracy: 0.8448\n",
      "Epoch 18/100\n",
      "28/28 [==============================] - 0s 5ms/step - loss: 0.3786 - accuracy: 0.8504\n",
      "Epoch 19/100\n",
      "28/28 [==============================] - 0s 5ms/step - loss: 0.3761 - accuracy: 0.8459\n",
      "Epoch 20/100\n",
      "28/28 [==============================] - 0s 5ms/step - loss: 0.3752 - accuracy: 0.8481\n",
      "Epoch 21/100\n",
      "28/28 [==============================] - 0s 5ms/step - loss: 0.3753 - accuracy: 0.8515\n",
      "Epoch 22/100\n",
      "28/28 [==============================] - 0s 5ms/step - loss: 0.3734 - accuracy: 0.8493\n",
      "Epoch 23/100\n",
      "28/28 [==============================] - 0s 5ms/step - loss: 0.3717 - accuracy: 0.8526\n",
      "Epoch 24/100\n",
      "28/28 [==============================] - 0s 5ms/step - loss: 0.3703 - accuracy: 0.8515\n",
      "Epoch 25/100\n",
      "28/28 [==============================] - 0s 5ms/step - loss: 0.3689 - accuracy: 0.8515\n",
      "Epoch 26/100\n",
      "28/28 [==============================] - 0s 5ms/step - loss: 0.3712 - accuracy: 0.8515\n",
      "Epoch 27/100\n",
      "28/28 [==============================] - 0s 5ms/step - loss: 0.3676 - accuracy: 0.8538\n",
      "Epoch 28/100\n",
      "28/28 [==============================] - 0s 5ms/step - loss: 0.3668 - accuracy: 0.8526\n",
      "Epoch 29/100\n",
      "28/28 [==============================] - 0s 5ms/step - loss: 0.3663 - accuracy: 0.8549\n",
      "Epoch 30/100\n",
      "28/28 [==============================] - 0s 5ms/step - loss: 0.3640 - accuracy: 0.8560\n",
      "Epoch 31/100\n",
      "28/28 [==============================] - 0s 5ms/step - loss: 0.3652 - accuracy: 0.8538\n",
      "Epoch 32/100\n",
      "28/28 [==============================] - 0s 5ms/step - loss: 0.3627 - accuracy: 0.8526\n",
      "Epoch 33/100\n",
      "28/28 [==============================] - 0s 5ms/step - loss: 0.3605 - accuracy: 0.8538\n",
      "Epoch 34/100\n",
      "28/28 [==============================] - 0s 5ms/step - loss: 0.3607 - accuracy: 0.8538\n",
      "Epoch 35/100\n",
      "28/28 [==============================] - 0s 5ms/step - loss: 0.3607 - accuracy: 0.8560\n",
      "Epoch 36/100\n",
      "28/28 [==============================] - 0s 5ms/step - loss: 0.3599 - accuracy: 0.8515\n",
      "Epoch 37/100\n",
      "28/28 [==============================] - 0s 5ms/step - loss: 0.3589 - accuracy: 0.8549\n",
      "Epoch 38/100\n",
      "28/28 [==============================] - 0s 5ms/step - loss: 0.3560 - accuracy: 0.8549\n",
      "Epoch 39/100\n",
      "28/28 [==============================] - 0s 5ms/step - loss: 0.3582 - accuracy: 0.8549\n",
      "Epoch 40/100\n",
      "28/28 [==============================] - 0s 5ms/step - loss: 0.3560 - accuracy: 0.8605\n",
      "Epoch 41/100\n",
      "28/28 [==============================] - 0s 5ms/step - loss: 0.3552 - accuracy: 0.8538\n",
      "Epoch 42/100\n",
      "28/28 [==============================] - 0s 5ms/step - loss: 0.3559 - accuracy: 0.8560\n",
      "Epoch 43/100\n",
      "28/28 [==============================] - 0s 5ms/step - loss: 0.3518 - accuracy: 0.8538\n",
      "Epoch 44/100\n",
      "28/28 [==============================] - 0s 5ms/step - loss: 0.3510 - accuracy: 0.8549\n",
      "Epoch 45/100\n",
      "28/28 [==============================] - 0s 5ms/step - loss: 0.3517 - accuracy: 0.8549\n",
      "Epoch 46/100\n",
      "28/28 [==============================] - 0s 5ms/step - loss: 0.3493 - accuracy: 0.8571\n",
      "Epoch 47/100\n",
      "28/28 [==============================] - 0s 5ms/step - loss: 0.3547 - accuracy: 0.8526\n",
      "Epoch 48/100\n",
      "28/28 [==============================] - 0s 5ms/step - loss: 0.3514 - accuracy: 0.8616\n",
      "Epoch 49/100\n",
      "28/28 [==============================] - 0s 5ms/step - loss: 0.3513 - accuracy: 0.8571\n",
      "Epoch 50/100\n",
      "28/28 [==============================] - 0s 5ms/step - loss: 0.3478 - accuracy: 0.8571\n",
      "Epoch 51/100\n",
      "28/28 [==============================] - 0s 5ms/step - loss: 0.3503 - accuracy: 0.8583\n",
      "Epoch 52/100\n",
      "28/28 [==============================] - 0s 5ms/step - loss: 0.3475 - accuracy: 0.8605\n",
      "Epoch 53/100\n",
      "28/28 [==============================] - 0s 5ms/step - loss: 0.3477 - accuracy: 0.8583\n",
      "Epoch 54/100\n",
      "28/28 [==============================] - 0s 5ms/step - loss: 0.3442 - accuracy: 0.8594\n",
      "Epoch 55/100\n",
      "28/28 [==============================] - 0s 5ms/step - loss: 0.3431 - accuracy: 0.8594\n",
      "Epoch 56/100\n",
      "28/28 [==============================] - 0s 5ms/step - loss: 0.3484 - accuracy: 0.8560\n",
      "Epoch 57/100\n",
      "28/28 [==============================] - 0s 5ms/step - loss: 0.3430 - accuracy: 0.8639\n",
      "Epoch 58/100\n",
      "28/28 [==============================] - 0s 5ms/step - loss: 0.3525 - accuracy: 0.8504\n",
      "Epoch 59/100\n",
      "28/28 [==============================] - 0s 5ms/step - loss: 0.3476 - accuracy: 0.8571\n",
      "Epoch 60/100\n",
      "28/28 [==============================] - 0s 5ms/step - loss: 0.3415 - accuracy: 0.8605\n",
      "Epoch 61/100\n",
      "28/28 [==============================] - 0s 5ms/step - loss: 0.3408 - accuracy: 0.8639\n",
      "Epoch 62/100\n",
      "28/28 [==============================] - 0s 5ms/step - loss: 0.3408 - accuracy: 0.8628\n",
      "Epoch 63/100\n",
      "28/28 [==============================] - 0s 5ms/step - loss: 0.3415 - accuracy: 0.8605\n",
      "Epoch 64/100\n",
      "28/28 [==============================] - 0s 5ms/step - loss: 0.3390 - accuracy: 0.8605\n",
      "Epoch 65/100\n",
      "28/28 [==============================] - 0s 5ms/step - loss: 0.3395 - accuracy: 0.8594\n",
      "Epoch 66/100\n",
      "28/28 [==============================] - 0s 5ms/step - loss: 0.3372 - accuracy: 0.8628\n",
      "Epoch 67/100\n",
      "28/28 [==============================] - 0s 5ms/step - loss: 0.3381 - accuracy: 0.8650\n",
      "Epoch 68/100\n",
      "28/28 [==============================] - 0s 5ms/step - loss: 0.3353 - accuracy: 0.8605\n",
      "Epoch 69/100\n",
      "28/28 [==============================] - 0s 5ms/step - loss: 0.3352 - accuracy: 0.8605\n",
      "Epoch 70/100\n",
      "28/28 [==============================] - 0s 5ms/step - loss: 0.3389 - accuracy: 0.8594\n",
      "Epoch 71/100\n",
      "28/28 [==============================] - 0s 5ms/step - loss: 0.3353 - accuracy: 0.8583\n",
      "Epoch 72/100\n",
      "28/28 [==============================] - 0s 5ms/step - loss: 0.3345 - accuracy: 0.8650\n",
      "Epoch 73/100\n",
      "28/28 [==============================] - 0s 5ms/step - loss: 0.3365 - accuracy: 0.8673\n",
      "Epoch 74/100\n",
      "28/28 [==============================] - 0s 5ms/step - loss: 0.3349 - accuracy: 0.8594\n",
      "Epoch 75/100\n",
      "28/28 [==============================] - 0s 5ms/step - loss: 0.3313 - accuracy: 0.8605\n",
      "Epoch 76/100\n",
      "28/28 [==============================] - 0s 5ms/step - loss: 0.3327 - accuracy: 0.8673\n",
      "Epoch 77/100\n",
      "28/28 [==============================] - 0s 5ms/step - loss: 0.3347 - accuracy: 0.8583\n",
      "Epoch 78/100\n",
      "28/28 [==============================] - 0s 5ms/step - loss: 0.3342 - accuracy: 0.8673\n",
      "Epoch 79/100\n",
      "28/28 [==============================] - 0s 5ms/step - loss: 0.3325 - accuracy: 0.8628\n",
      "Epoch 80/100\n",
      "28/28 [==============================] - 0s 5ms/step - loss: 0.3292 - accuracy: 0.8628\n",
      "Epoch 81/100\n",
      "28/28 [==============================] - 0s 5ms/step - loss: 0.3299 - accuracy: 0.8628\n",
      "Epoch 82/100\n",
      "28/28 [==============================] - 0s 5ms/step - loss: 0.3361 - accuracy: 0.8538\n",
      "Epoch 83/100\n"
     ]
    },
    {
     "name": "stdout",
     "output_type": "stream",
     "text": [
      "28/28 [==============================] - 0s 5ms/step - loss: 0.3301 - accuracy: 0.8650\n",
      "Epoch 84/100\n",
      "28/28 [==============================] - 0s 5ms/step - loss: 0.3286 - accuracy: 0.8639\n",
      "Epoch 85/100\n",
      "28/28 [==============================] - 0s 5ms/step - loss: 0.3283 - accuracy: 0.8661\n",
      "Epoch 86/100\n",
      "28/28 [==============================] - 0s 5ms/step - loss: 0.3300 - accuracy: 0.8628\n",
      "Epoch 87/100\n",
      "28/28 [==============================] - 0s 5ms/step - loss: 0.3312 - accuracy: 0.8684\n",
      "Epoch 88/100\n",
      "28/28 [==============================] - 0s 5ms/step - loss: 0.3281 - accuracy: 0.8628\n",
      "Epoch 89/100\n",
      "28/28 [==============================] - 0s 5ms/step - loss: 0.3264 - accuracy: 0.8673\n",
      "Epoch 90/100\n",
      "28/28 [==============================] - 0s 5ms/step - loss: 0.3276 - accuracy: 0.8628\n",
      "Epoch 91/100\n",
      "28/28 [==============================] - 0s 5ms/step - loss: 0.3247 - accuracy: 0.8718\n",
      "Epoch 92/100\n",
      "28/28 [==============================] - 0s 5ms/step - loss: 0.3249 - accuracy: 0.8684\n",
      "Epoch 93/100\n",
      "28/28 [==============================] - 0s 4ms/step - loss: 0.3241 - accuracy: 0.8639\n",
      "Epoch 94/100\n",
      "28/28 [==============================] - 0s 5ms/step - loss: 0.3235 - accuracy: 0.8661\n",
      "Epoch 95/100\n",
      "28/28 [==============================] - 0s 5ms/step - loss: 0.3250 - accuracy: 0.8673\n",
      "Epoch 96/100\n",
      "28/28 [==============================] - 0s 5ms/step - loss: 0.3262 - accuracy: 0.8684\n",
      "Epoch 97/100\n",
      "28/28 [==============================] - 0s 5ms/step - loss: 0.3226 - accuracy: 0.8650\n",
      "Epoch 98/100\n",
      "28/28 [==============================] - 0s 5ms/step - loss: 0.3235 - accuracy: 0.8740\n",
      "Epoch 99/100\n",
      "28/28 [==============================] - 0s 5ms/step - loss: 0.3213 - accuracy: 0.8729\n",
      "Epoch 100/100\n",
      "28/28 [==============================] - 0s 5ms/step - loss: 0.3209 - accuracy: 0.8673\n"
     ]
    },
    {
     "data": {
      "text/plain": [
       "<tensorflow.python.keras.callbacks.History at 0x178033ec9d0>"
      ]
     },
     "execution_count": 49,
     "metadata": {},
     "output_type": "execute_result"
    }
   ],
   "source": [
    "#Building Model\n",
    "model= tf.keras.Sequential([\n",
    "    tf.keras.layers.Dense(40,input_shape=(38,),activation='relu'),\n",
    "    tf.keras.layers.Dense(20,activation=\"relu\"),\n",
    "    tf.keras.layers.Dense(10,activation=\"relu\"),\n",
    "    tf.keras.layers.Dense(1,activation=\"sigmoid\")\n",
    "])\n",
    "\n",
    "model.compile(optimizer=\"adam\",\n",
    "             loss=\"binary_crossentropy\",\n",
    "             metrics=[\"accuracy\"])\n",
    "model.fit(X_data,Y_data,epochs=100)"
   ]
  },
  {
   "cell_type": "code",
   "execution_count": 43,
   "id": "2944c82d",
   "metadata": {},
   "outputs": [
    {
     "data": {
      "text/html": [
       "<div>\n",
       "<style scoped>\n",
       "    .dataframe tbody tr th:only-of-type {\n",
       "        vertical-align: middle;\n",
       "    }\n",
       "\n",
       "    .dataframe tbody tr th {\n",
       "        vertical-align: top;\n",
       "    }\n",
       "\n",
       "    .dataframe thead th {\n",
       "        text-align: right;\n",
       "    }\n",
       "</style>\n",
       "<table border=\"1\" class=\"dataframe\">\n",
       "  <thead>\n",
       "    <tr style=\"text-align: right;\">\n",
       "      <th></th>\n",
       "      <th>Sex</th>\n",
       "      <th>Age</th>\n",
       "      <th>SibSp</th>\n",
       "      <th>Parch</th>\n",
       "      <th>Fare</th>\n",
       "      <th>Embarked_C</th>\n",
       "      <th>Embarked_Q</th>\n",
       "      <th>Embarked_S</th>\n",
       "      <th>cabin_adv_A</th>\n",
       "      <th>cabin_adv_B</th>\n",
       "      <th>...</th>\n",
       "      <th>name_title_Mme</th>\n",
       "      <th>name_title_Mr</th>\n",
       "      <th>name_title_Mrs</th>\n",
       "      <th>name_title_Ms</th>\n",
       "      <th>name_title_Rev</th>\n",
       "      <th>name_title_Sir</th>\n",
       "      <th>name_title_the Countess</th>\n",
       "      <th>Pclass_Class-1</th>\n",
       "      <th>Pclass_Class-2</th>\n",
       "      <th>Pclass_Class-3</th>\n",
       "    </tr>\n",
       "  </thead>\n",
       "  <tbody>\n",
       "    <tr>\n",
       "      <th>0</th>\n",
       "      <td>0</td>\n",
       "      <td>0.430039</td>\n",
       "      <td>0.000</td>\n",
       "      <td>0.000000</td>\n",
       "      <td>0.015282</td>\n",
       "      <td>0</td>\n",
       "      <td>1</td>\n",
       "      <td>0</td>\n",
       "      <td>0</td>\n",
       "      <td>0</td>\n",
       "      <td>...</td>\n",
       "      <td>0</td>\n",
       "      <td>1</td>\n",
       "      <td>0</td>\n",
       "      <td>0</td>\n",
       "      <td>0</td>\n",
       "      <td>0</td>\n",
       "      <td>0</td>\n",
       "      <td>0</td>\n",
       "      <td>0</td>\n",
       "      <td>1</td>\n",
       "    </tr>\n",
       "    <tr>\n",
       "      <th>1</th>\n",
       "      <td>1</td>\n",
       "      <td>0.586622</td>\n",
       "      <td>0.125</td>\n",
       "      <td>0.000000</td>\n",
       "      <td>0.013663</td>\n",
       "      <td>0</td>\n",
       "      <td>0</td>\n",
       "      <td>1</td>\n",
       "      <td>0</td>\n",
       "      <td>0</td>\n",
       "      <td>...</td>\n",
       "      <td>0</td>\n",
       "      <td>0</td>\n",
       "      <td>1</td>\n",
       "      <td>0</td>\n",
       "      <td>0</td>\n",
       "      <td>0</td>\n",
       "      <td>0</td>\n",
       "      <td>0</td>\n",
       "      <td>0</td>\n",
       "      <td>1</td>\n",
       "    </tr>\n",
       "    <tr>\n",
       "      <th>2</th>\n",
       "      <td>0</td>\n",
       "      <td>0.774521</td>\n",
       "      <td>0.000</td>\n",
       "      <td>0.000000</td>\n",
       "      <td>0.018909</td>\n",
       "      <td>0</td>\n",
       "      <td>1</td>\n",
       "      <td>0</td>\n",
       "      <td>0</td>\n",
       "      <td>0</td>\n",
       "      <td>...</td>\n",
       "      <td>0</td>\n",
       "      <td>1</td>\n",
       "      <td>0</td>\n",
       "      <td>0</td>\n",
       "      <td>0</td>\n",
       "      <td>0</td>\n",
       "      <td>0</td>\n",
       "      <td>0</td>\n",
       "      <td>1</td>\n",
       "      <td>0</td>\n",
       "    </tr>\n",
       "    <tr>\n",
       "      <th>3</th>\n",
       "      <td>0</td>\n",
       "      <td>0.336089</td>\n",
       "      <td>0.000</td>\n",
       "      <td>0.000000</td>\n",
       "      <td>0.016908</td>\n",
       "      <td>0</td>\n",
       "      <td>0</td>\n",
       "      <td>1</td>\n",
       "      <td>0</td>\n",
       "      <td>0</td>\n",
       "      <td>...</td>\n",
       "      <td>0</td>\n",
       "      <td>1</td>\n",
       "      <td>0</td>\n",
       "      <td>0</td>\n",
       "      <td>0</td>\n",
       "      <td>0</td>\n",
       "      <td>0</td>\n",
       "      <td>0</td>\n",
       "      <td>0</td>\n",
       "      <td>1</td>\n",
       "    </tr>\n",
       "    <tr>\n",
       "      <th>4</th>\n",
       "      <td>1</td>\n",
       "      <td>0.273456</td>\n",
       "      <td>0.125</td>\n",
       "      <td>0.111111</td>\n",
       "      <td>0.023984</td>\n",
       "      <td>0</td>\n",
       "      <td>0</td>\n",
       "      <td>1</td>\n",
       "      <td>0</td>\n",
       "      <td>0</td>\n",
       "      <td>...</td>\n",
       "      <td>0</td>\n",
       "      <td>0</td>\n",
       "      <td>1</td>\n",
       "      <td>0</td>\n",
       "      <td>0</td>\n",
       "      <td>0</td>\n",
       "      <td>0</td>\n",
       "      <td>0</td>\n",
       "      <td>0</td>\n",
       "      <td>1</td>\n",
       "    </tr>\n",
       "  </tbody>\n",
       "</table>\n",
       "<p>5 rows × 38 columns</p>\n",
       "</div>"
      ],
      "text/plain": [
       "   Sex       Age  SibSp     Parch      Fare  Embarked_C  Embarked_Q  \\\n",
       "0    0  0.430039  0.000  0.000000  0.015282           0           1   \n",
       "1    1  0.586622  0.125  0.000000  0.013663           0           0   \n",
       "2    0  0.774521  0.000  0.000000  0.018909           0           1   \n",
       "3    0  0.336089  0.000  0.000000  0.016908           0           0   \n",
       "4    1  0.273456  0.125  0.111111  0.023984           0           0   \n",
       "\n",
       "   Embarked_S  cabin_adv_A  cabin_adv_B  ...  name_title_Mme  name_title_Mr  \\\n",
       "0           0            0            0  ...               0              1   \n",
       "1           1            0            0  ...               0              0   \n",
       "2           0            0            0  ...               0              1   \n",
       "3           1            0            0  ...               0              1   \n",
       "4           1            0            0  ...               0              0   \n",
       "\n",
       "   name_title_Mrs  name_title_Ms  name_title_Rev  name_title_Sir  \\\n",
       "0               0              0               0               0   \n",
       "1               1              0               0               0   \n",
       "2               0              0               0               0   \n",
       "3               0              0               0               0   \n",
       "4               1              0               0               0   \n",
       "\n",
       "   name_title_the Countess  Pclass_Class-1  Pclass_Class-2  Pclass_Class-3  \n",
       "0                        0               0               0               1  \n",
       "1                        0               0               0               1  \n",
       "2                        0               0               1               0  \n",
       "3                        0               0               0               1  \n",
       "4                        0               0               0               1  \n",
       "\n",
       "[5 rows x 38 columns]"
      ]
     },
     "execution_count": 43,
     "metadata": {},
     "output_type": "execute_result"
    }
   ],
   "source": [
    "pred.head()"
   ]
  },
  {
   "cell_type": "code",
   "execution_count": 44,
   "id": "65ed4fcc",
   "metadata": {
    "scrolled": true
   },
   "outputs": [
    {
     "data": {
      "text/plain": [
       "array([[0.06814118],\n",
       "       [0.401788  ],\n",
       "       [0.03352904],\n",
       "       [0.11217226],\n",
       "       [0.53081024]], dtype=float32)"
      ]
     },
     "execution_count": 44,
     "metadata": {},
     "output_type": "execute_result"
    }
   ],
   "source": [
    "y_p=model.predict(pred)\n",
    "y_p[:5]"
   ]
  },
  {
   "cell_type": "code",
   "execution_count": 45,
   "id": "4cdb335a",
   "metadata": {},
   "outputs": [
    {
     "data": {
      "text/plain": [
       "[0, 0, 0, 0, 1]"
      ]
     },
     "execution_count": 45,
     "metadata": {},
     "output_type": "execute_result"
    }
   ],
   "source": [
    "y_pred=[]\n",
    "for i in y_p:\n",
    "    if i >0.5:\n",
    "        y_pred.append(1)\n",
    "    else:\n",
    "        y_pred.append(0)\n",
    "y_pred[:5]"
   ]
  },
  {
   "cell_type": "code",
   "execution_count": 46,
   "id": "cbf86725",
   "metadata": {},
   "outputs": [
    {
     "data": {
      "text/html": [
       "<div>\n",
       "<style scoped>\n",
       "    .dataframe tbody tr th:only-of-type {\n",
       "        vertical-align: middle;\n",
       "    }\n",
       "\n",
       "    .dataframe tbody tr th {\n",
       "        vertical-align: top;\n",
       "    }\n",
       "\n",
       "    .dataframe thead th {\n",
       "        text-align: right;\n",
       "    }\n",
       "</style>\n",
       "<table border=\"1\" class=\"dataframe\">\n",
       "  <thead>\n",
       "    <tr style=\"text-align: right;\">\n",
       "      <th></th>\n",
       "      <th>PassengerId</th>\n",
       "      <th>Survived</th>\n",
       "    </tr>\n",
       "  </thead>\n",
       "  <tbody>\n",
       "    <tr>\n",
       "      <th>131</th>\n",
       "      <td>1023</td>\n",
       "      <td>0</td>\n",
       "    </tr>\n",
       "    <tr>\n",
       "      <th>105</th>\n",
       "      <td>997</td>\n",
       "      <td>0</td>\n",
       "    </tr>\n",
       "    <tr>\n",
       "      <th>307</th>\n",
       "      <td>1199</td>\n",
       "      <td>1</td>\n",
       "    </tr>\n",
       "    <tr>\n",
       "      <th>58</th>\n",
       "      <td>950</td>\n",
       "      <td>0</td>\n",
       "    </tr>\n",
       "    <tr>\n",
       "      <th>408</th>\n",
       "      <td>1300</td>\n",
       "      <td>1</td>\n",
       "    </tr>\n",
       "  </tbody>\n",
       "</table>\n",
       "</div>"
      ],
      "text/plain": [
       "     PassengerId  Survived\n",
       "131         1023         0\n",
       "105          997         0\n",
       "307         1199         1\n",
       "58           950         0\n",
       "408         1300         1"
      ]
     },
     "execution_count": 46,
     "metadata": {},
     "output_type": "execute_result"
    }
   ],
   "source": [
    "output=pd.DataFrame({\"PassengerId\":test.PassengerId,\"Survived\":y_pred})\n",
    "output.sample(5)"
   ]
  },
  {
   "cell_type": "code",
   "execution_count": 47,
   "id": "50ca21d6",
   "metadata": {},
   "outputs": [
    {
     "data": {
      "text/plain": [
       "(418, 2)"
      ]
     },
     "execution_count": 47,
     "metadata": {},
     "output_type": "execute_result"
    }
   ],
   "source": [
    "output.shape"
   ]
  },
  {
   "cell_type": "code",
   "execution_count": 48,
   "id": "2846c531",
   "metadata": {},
   "outputs": [],
   "source": [
    "output.to_csv('my_submission2.csv', index=False)"
   ]
  },
  {
   "cell_type": "code",
   "execution_count": null,
   "id": "4c78417f",
   "metadata": {},
   "outputs": [],
   "source": []
  }
 ],
 "metadata": {
  "kernelspec": {
   "display_name": "Python 3",
   "language": "python",
   "name": "python3"
  },
  "language_info": {
   "codemirror_mode": {
    "name": "ipython",
    "version": 3
   },
   "file_extension": ".py",
   "mimetype": "text/x-python",
   "name": "python",
   "nbconvert_exporter": "python",
   "pygments_lexer": "ipython3",
   "version": "3.8.8"
  }
 },
 "nbformat": 4,
 "nbformat_minor": 5
}
